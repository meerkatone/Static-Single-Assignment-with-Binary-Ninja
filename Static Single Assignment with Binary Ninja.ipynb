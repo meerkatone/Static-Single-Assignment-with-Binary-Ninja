{
 "cells": [
  {
   "cell_type": "code",
   "execution_count": 1,
   "id": "e491692b-10e1-4244-b2d9-997f95c111f6",
   "metadata": {},
   "outputs": [
    {
     "data": {
      "text/html": [
       "\n",
       "                <script type=\"application/javascript\" id=\"jupyter_black\">\n",
       "                (function() {\n",
       "                    if (window.IPython === undefined) {\n",
       "                        return\n",
       "                    }\n",
       "                    var msg = \"WARNING: it looks like you might have loaded \" +\n",
       "                        \"jupyter_black in a non-lab notebook with \" +\n",
       "                        \"`is_lab=True`. Please double check, and if \" +\n",
       "                        \"loading with `%load_ext` please review the README!\"\n",
       "                    console.log(msg)\n",
       "                    alert(msg)\n",
       "                })()\n",
       "                </script>\n",
       "                "
      ],
      "text/plain": [
       "<IPython.core.display.HTML object>"
      ]
     },
     "metadata": {},
     "output_type": "display_data"
    }
   ],
   "source": [
    "import pandas as pd\n",
    "import os\n",
    "from binaryninja import *\n",
    "import jupyter_black\n",
    "\n",
    "jupyter_black.load()\n",
    "\n",
    "os.environ[\"BN_DISABLE_USER_SETTINGS\"] = \"True\"\n",
    "os.environ[\"BN_DISABLE_USER_PLUGINS\"] = \"True\"\n",
    "os.environ[\"BN_DISABLE_REPOSITORY_PLUGINS\"] = \"True\""
   ]
  },
  {
   "cell_type": "markdown",
   "id": "f3d5d657-23b9-494c-b79e-05ca03c28df0",
   "metadata": {},
   "source": [
    "<h1>Static Single Assignment (SSA) with Binary Ninja</h1>"
   ]
  },
  {
   "cell_type": "markdown",
   "id": "1aa81a63-6c52-4d62-beac-7d847861e5e2",
   "metadata": {},
   "source": [
    "- Every variable is defined only once.\n",
    "    - If a change is made a new version is created.\n",
    "    - Using SSA we can see the variables source and determine the definition, and use, which is called the def-use chain.\n",
    "    - If a variable is derived from\n",
    "        - another node,\n",
    "        - or has taken multiple paths,\n",
    "        - or is wrapped in another function\n",
    "        - we can use phi ϕ with the SSA form to determine the possible values used to create it, or keep walking back until we do.\n",
    "        - a phi ϕ example in Binary Ninja:\n",
    "            - r2_1#4 = ϕ(r2_1#1, r2_1#2)<br></br>\n",
    "- Compiler optimisation enabled through the use of SSA:\n",
    "    - Constant propagation – conversion of computations from runtime to compile time, e.g. treat the instruction a=3*4+5; as if it were a=17;\n",
    "    - Value range propagation – precompute the potential ranges a calculation could be, allowing for the creation of branch predictions in advance.\n",
    "    - Sparse conditional constant propagation – range-check some values, allowing tests to predict the most likely branch.\n",
    "    - Dead-code elimination – remove code that will have no effect on the results.\n",
    "    - Global value numbering – replace duplicate calculations producing the same result.\n",
    "    - Partial-redundancy elimination – removing duplicate calculations previously performed in some branches of the program."
   ]
  },
  {
   "cell_type": "markdown",
   "id": "4ae92832-1d2d-41be-815a-fcb1628f9abf",
   "metadata": {},
   "source": [
    "<h1>Load the binary view</h1>"
   ]
  },
  {
   "cell_type": "markdown",
   "id": "a40ffabd-e18b-41c9-884c-127d3436de62",
   "metadata": {},
   "source": [
    "Get the Trivision webs binary:\n",
    "- wget https://github.com/therealsaumil/emux/raw/master/files/emux/TRI227WF/rootfs.tar.bz2\n",
    "- bzip2 -d ./rootfs.tar.bz2\n",
    "- tar -xvf ./rootfs.tar\n",
    "- mkdir ./Tenda/BNDB/\n",
    "- cp ./rootfs/usr/bin/webs ./Tenda/BNDB/TRI227WF_webs\n",
    "- rename the binary as needed.\n",
    "- open the binary in Binary Ninja and save a bndb."
   ]
  },
  {
   "cell_type": "code",
   "execution_count": 2,
   "id": "63a8d8d5-2ac9-4502-b149-23ad15bb4d37",
   "metadata": {},
   "outputs": [],
   "source": [
    "bv = binaryninja.load(\"./Tenda/BNDB/trivision_webs.bndb\")"
   ]
  },
  {
   "cell_type": "markdown",
   "id": "cde4283d-5980-45f7-82af-8238085398ed",
   "metadata": {},
   "source": [
    "<h1>Get the MLIL SSA form for function 0xB7E8</h1>"
   ]
  },
  {
   "cell_type": "code",
   "execution_count": 3,
   "id": "a77e875e-2347-4f3b-a83f-6e16063d3321",
   "metadata": {
    "scrolled": true
   },
   "outputs": [
    {
     "name": "stdout",
     "output_type": "stream",
     "text": [
      "0  @  0xb7ec  r6#1 = arg1#0\n",
      "1  @  0xb7f0  r5#1 = arg2#0\n",
      "2  @  0xb7f4  result#1, mem#1 = 0x9710(arg1#0) @ mem#0\n",
      "3  @  0xb7f8  result_1#1 = result#1\n",
      "4  @  0xb7fc  r3#1 = r6#1 + result#1\n",
      "5  @  0xb800  goto 6 @ 0xb818\n",
      "6  @  0xb818  r2_1#1 = ϕ(r2#0, r2_1#2)\n",
      "7  @  0xb818  r3#2 = ϕ(r3#1, r3#3)\n",
      "8  @  0xb818  result_1#2 = ϕ(result_1#1, result_1#4)\n",
      "9  @  0xb818  if (result_1#2 s>= 0) then 10 @ 0xb804 else 13 @ 0xb81c\n",
      "10  @  0xb804  r2_1#2 = zx.d([r3#2].b @ mem#1)\n",
      "11  @  0xb804  r3#3 = r3#2 - 1\n",
      "12  @  0xb80c  if (r2_1#2 == 0x2e) then 14 @ 0xb824 else 15 @ 0xb810\n",
      "13  @  0xb81c  goto 17 @ 0xb84c\n",
      "14  @  0xb824  if (result_1#2 == 0) then 21 else 22 @ 0xb828\n",
      "15  @  0xb810  result_1#4 = result_1#2 - 1\n",
      "16  @  0xb810  goto 6 @ 0xb818\n",
      "17  @  0xb84c  r2_1#4 = ϕ(r2_1#1, r2_1#2)\n",
      "18  @  0xb84c  r3#4 = ϕ(r3#2, r3#3)\n",
      "19  @  0xb84c  [r5#1].b = 0 @ mem#1 -> mem#4\n",
      "20  @  0xb84c  goto 29 @ 0xb854\n",
      "21  @  0xb824  goto 17 @ 0xb84c\n",
      "22  @  0xb828  r2_2#3 = result_1#2 + 1\n",
      "23  @  0xb82c  r1#1 = r6#1\n",
      "24  @  0xb830  r0#2 = r5#1\n",
      "25  @  0xb834  result#3, mem#2 = 0x93e0(r0#2, r1#1, r2_2#3) @ mem#1\n",
      "26  @  0xb838  r4#3 = r5#1 + result_1#2\n",
      "27  @  0xb840  [r4#3 + 1].b = 0 @ mem#2 -> mem#3\n",
      "28  @  0xb844  goto 29 @ 0xb854\n",
      "29  @  0xb854  result#4 = ϕ(result#1, result#3)\n",
      "30  @  0xb854  r1#2 = ϕ(arg2#0, r1#1)\n",
      "31  @  0xb854  r2_1#5 = ϕ(r2_2#3, r2_1#4)\n",
      "32  @  0xb854  r3#5 = ϕ(r3#3, r3#4)\n",
      "33  @  0xb854  r4#5 = ϕ(result_1#2, r4#3)\n",
      "34  @  0xb854  mem#5 = ϕ(mem#3, mem#4)\n",
      "35  @  0xb854  return result#4\n"
     ]
    }
   ],
   "source": [
    "func = bv.get_function_at(0xB7E8)\n",
    "\n",
    "mlil_ssa = func.mlil.ssa_form\n",
    "\n",
    "for block in mlil_ssa:\n",
    "    for insn in block:\n",
    "        print(f\"{insn.instr_index}  @  {hex(insn.address)}  {insn}\")"
   ]
  },
  {
   "cell_type": "markdown",
   "id": "eba35170-eb8f-4f5b-9d25-6b55cfa9f1cd",
   "metadata": {},
   "source": [
    "<h1>Check the def-use for the 3rd param to memcpy</h1> "
   ]
  },
  {
   "cell_type": "code",
   "execution_count": 4,
   "id": "d9c5a9dc-26ca-40ff-ae5c-82fa08487993",
   "metadata": {},
   "outputs": [
    {
     "data": {
      "text/plain": [
       "<MediumLevelILCallSsa: result#3, mem#2 = 0x93e0(r0#2, r1#1, r2_2#3) @ mem#1>"
      ]
     },
     "execution_count": 4,
     "metadata": {},
     "output_type": "execute_result"
    }
   ],
   "source": [
    "mlil_ssa[25]"
   ]
  },
  {
   "cell_type": "code",
   "execution_count": 5,
   "id": "09b04736-13bc-4847-9584-0f3924040fea",
   "metadata": {},
   "outputs": [
    {
     "data": {
      "text/plain": [
       "<SSAVariable: r2_2 version 3>"
      ]
     },
     "execution_count": 5,
     "metadata": {},
     "output_type": "execute_result"
    }
   ],
   "source": [
    "mlil_ssa[25].params[2].src"
   ]
  },
  {
   "cell_type": "code",
   "execution_count": 6,
   "id": "3bf8f7d1-32d7-49a7-8515-92636d576379",
   "metadata": {},
   "outputs": [
    {
     "data": {
      "text/plain": [
       "<MediumLevelILSetVarSsa: r2_2#3 = result_1#2 + 1>"
      ]
     },
     "execution_count": 6,
     "metadata": {},
     "output_type": "execute_result"
    }
   ],
   "source": [
    "mlil_ssa[25].params[2].src.def_site"
   ]
  },
  {
   "cell_type": "code",
   "execution_count": 7,
   "id": "081a70ff-f4f2-49c8-a736-a4707c53d8f0",
   "metadata": {},
   "outputs": [
    {
     "data": {
      "text/plain": [
       "[<MediumLevelILCallSsa: result#3, mem#2 = 0x93e0(r0#2, r1#1, r2_2#3) @ mem#1>,\n",
       " <MediumLevelILVarPhi: r2_1#5 = ϕ(r2_2#3, r2_1#4)>]"
      ]
     },
     "execution_count": 7,
     "metadata": {},
     "output_type": "execute_result"
    }
   ],
   "source": [
    "mlil_ssa[25].params[2].src.use_sites"
   ]
  },
  {
   "cell_type": "markdown",
   "id": "71545230-1031-4c54-954e-58e4ed7a5d59",
   "metadata": {},
   "source": [
    "<h1>Check if the 3rd param to memcpy takes negative range values</h1>"
   ]
  },
  {
   "cell_type": "code",
   "execution_count": 8,
   "id": "b73c070b-674c-4261-8d99-76c7b2a636d4",
   "metadata": {},
   "outputs": [
    {
     "data": {
      "text/plain": [
       "<range: -0x80000000 to -0x80000000>"
      ]
     },
     "execution_count": 8,
     "metadata": {},
     "output_type": "execute_result"
    }
   ],
   "source": [
    "mlil_ssa[25].params[2].possible_values.ranges[0]"
   ]
  },
  {
   "cell_type": "code",
   "execution_count": 9,
   "id": "90449159-aa16-442a-a92f-c99f8b582332",
   "metadata": {},
   "outputs": [
    {
     "data": {
      "text/plain": [
       "-2147483648"
      ]
     },
     "execution_count": 9,
     "metadata": {},
     "output_type": "execute_result"
    }
   ],
   "source": [
    "mlil_ssa[25].params[2].possible_values.ranges[0].end"
   ]
  },
  {
   "cell_type": "markdown",
   "id": "a4abb0c4-4da4-4797-bf9b-dd4c5c0ae644",
   "metadata": {
    "jp-MarkdownHeadingCollapsed": true
   },
   "source": [
    "<h1>Check the def-use for phi nodes"
   ]
  },
  {
   "cell_type": "code",
   "execution_count": 10,
   "id": "d10340d9-06d3-4065-933e-2a68be4df12a",
   "metadata": {},
   "outputs": [],
   "source": [
    "ssa = mlil_ssa[17]"
   ]
  },
  {
   "cell_type": "code",
   "execution_count": 11,
   "id": "8a9b9673-dccd-4d68-8fe8-cbdc3f92e84e",
   "metadata": {},
   "outputs": [
    {
     "data": {
      "text/plain": [
       "<MediumLevelILVarPhi: r2_1#4 = ϕ(r2_1#1, r2_1#2)>"
      ]
     },
     "execution_count": 11,
     "metadata": {},
     "output_type": "execute_result"
    }
   ],
   "source": [
    "ssa"
   ]
  },
  {
   "cell_type": "code",
   "execution_count": 12,
   "id": "654eea82-664e-43ec-b161-cd81883dd19b",
   "metadata": {},
   "outputs": [
    {
     "data": {
      "text/plain": [
       "<MediumLevelILVarPhi: r2_1#1 = ϕ(r2#0, r2_1#2)>"
      ]
     },
     "execution_count": 12,
     "metadata": {},
     "output_type": "execute_result"
    }
   ],
   "source": [
    "(mlil_ssa.get_ssa_var_definition((ssa).src[0]))"
   ]
  },
  {
   "cell_type": "code",
   "execution_count": 13,
   "id": "8bc56020-0929-480a-9ff0-50daa7566a8b",
   "metadata": {},
   "outputs": [
    {
     "data": {
      "text/plain": [
       "[<MediumLevelILVarPhi: r2_1#4 = ϕ(r2_1#1, r2_1#2)>]"
      ]
     },
     "execution_count": 13,
     "metadata": {},
     "output_type": "execute_result"
    }
   ],
   "source": [
    "(mlil_ssa.get_ssa_var_uses((ssa).src[0]))"
   ]
  },
  {
   "cell_type": "code",
   "execution_count": 14,
   "id": "5f2b2c72-5041-4789-b5a5-bc83fbcc3e8e",
   "metadata": {},
   "outputs": [],
   "source": [
    "func = bv.get_function_at(0xB7E8)\n",
    "mlil_ssa = func.mlil.ssa_form\n",
    "\n",
    "data = []\n",
    "\n",
    "for block in mlil_ssa:\n",
    "    for insn in block:\n",
    "        instr_index = insn.instr_index\n",
    "        address = hex(insn.address)\n",
    "        instruction = str(insn)\n",
    "\n",
    "        definitions = []\n",
    "        if hasattr(insn, \"src\") and isinstance(insn.src, list):\n",
    "            for operand in insn.src:\n",
    "                if hasattr(operand, \"version\"):\n",
    "                    def_insn = mlil_ssa.get_ssa_var_definition(operand)\n",
    "                    if def_insn:\n",
    "                        definitions.append(\n",
    "                            f\"{operand} @ {hex(def_insn.address)} [{def_insn.instr_index}]\"\n",
    "                        )\n",
    "\n",
    "        uses = []\n",
    "        if hasattr(insn, \"dest\") and hasattr(insn.dest, \"version\"):\n",
    "            use_list = mlil_ssa.get_ssa_var_uses(insn.dest)\n",
    "            for use in use_list:\n",
    "                uses.append(f\"{hex(use.address)} [{use.instr_index}]\")\n",
    "\n",
    "        data.append(\n",
    "            [\n",
    "                instr_index,\n",
    "                address,\n",
    "                instruction,\n",
    "                \"\\n\".join(definitions) if definitions else \"None\",\n",
    "                \"\\n\".join(uses) if uses else \"None\",\n",
    "            ]\n",
    "        )\n",
    "\n",
    "headers = [\"Instr Index\", \"Address\", \"Instruction\", \"Definitions\", \"Uses\"]\n",
    "df = pd.DataFrame(data, columns=headers)\n",
    "\n",
    "# Write to CSV without index\n",
    "df.to_csv(\"mlil_ssa_output.csv\", index=False)\n",
    "\n",
    "# Write to Parquet without index\n",
    "# df.to_parquet(\"mlil_ssa_output.parquet\", index=False)"
   ]
  },
  {
   "cell_type": "code",
   "execution_count": 15,
   "id": "7cbfb981-0263-4dc1-b4ae-2b423c6d7327",
   "metadata": {
    "scrolled": true
   },
   "outputs": [
    {
     "data": {
      "text/html": [
       "<div>\n",
       "<style scoped>\n",
       "    .dataframe tbody tr th:only-of-type {\n",
       "        vertical-align: middle;\n",
       "    }\n",
       "\n",
       "    .dataframe tbody tr th {\n",
       "        vertical-align: top;\n",
       "    }\n",
       "\n",
       "    .dataframe thead th {\n",
       "        text-align: right;\n",
       "    }\n",
       "</style>\n",
       "<table border=\"1\" class=\"dataframe\">\n",
       "  <thead>\n",
       "    <tr style=\"text-align: right;\">\n",
       "      <th></th>\n",
       "      <th>Instr Index</th>\n",
       "      <th>Address</th>\n",
       "      <th>Instruction</th>\n",
       "      <th>Definitions</th>\n",
       "      <th>Uses</th>\n",
       "    </tr>\n",
       "  </thead>\n",
       "  <tbody>\n",
       "    <tr>\n",
       "      <th>0</th>\n",
       "      <td>0</td>\n",
       "      <td>0xb7ec</td>\n",
       "      <td>r6#1 = arg1#0</td>\n",
       "      <td>None</td>\n",
       "      <td>0xb7fc [4]\\n0xb82c [23]</td>\n",
       "    </tr>\n",
       "    <tr>\n",
       "      <th>1</th>\n",
       "      <td>1</td>\n",
       "      <td>0xb7f0</td>\n",
       "      <td>r5#1 = arg2#0</td>\n",
       "      <td>None</td>\n",
       "      <td>0xb84c [19]\\n0xb830 [24]\\n0xb838 [26]</td>\n",
       "    </tr>\n",
       "    <tr>\n",
       "      <th>2</th>\n",
       "      <td>2</td>\n",
       "      <td>0xb7f4</td>\n",
       "      <td>result#1, mem#1 = 0x9710(arg1#0) @ mem#0</td>\n",
       "      <td>None</td>\n",
       "      <td>None</td>\n",
       "    </tr>\n",
       "    <tr>\n",
       "      <th>3</th>\n",
       "      <td>3</td>\n",
       "      <td>0xb7f8</td>\n",
       "      <td>result_1#1 = result#1</td>\n",
       "      <td>None</td>\n",
       "      <td>0xb818 [8]</td>\n",
       "    </tr>\n",
       "    <tr>\n",
       "      <th>4</th>\n",
       "      <td>4</td>\n",
       "      <td>0xb7fc</td>\n",
       "      <td>r3#1 = r6#1 + result#1</td>\n",
       "      <td>None</td>\n",
       "      <td>0xb818 [7]</td>\n",
       "    </tr>\n",
       "    <tr>\n",
       "      <th>5</th>\n",
       "      <td>5</td>\n",
       "      <td>0xb800</td>\n",
       "      <td>goto 6 @ 0xb818</td>\n",
       "      <td>None</td>\n",
       "      <td>None</td>\n",
       "    </tr>\n",
       "    <tr>\n",
       "      <th>6</th>\n",
       "      <td>6</td>\n",
       "      <td>0xb818</td>\n",
       "      <td>r2_1#1 = ϕ(r2#0, r2_1#2)</td>\n",
       "      <td>&lt;SSAVariable: r2_1 version 2&gt; @ 0xb804 [10]</td>\n",
       "      <td>0xb84c [17]</td>\n",
       "    </tr>\n",
       "    <tr>\n",
       "      <th>7</th>\n",
       "      <td>7</td>\n",
       "      <td>0xb818</td>\n",
       "      <td>r3#2 = ϕ(r3#1, r3#3)</td>\n",
       "      <td>&lt;SSAVariable: r3 version 1&gt; @ 0xb7fc [4]\\n&lt;SSA...</td>\n",
       "      <td>0xb804 [10]\\n0xb804 [11]\\n0xb84c [18]</td>\n",
       "    </tr>\n",
       "    <tr>\n",
       "      <th>8</th>\n",
       "      <td>8</td>\n",
       "      <td>0xb818</td>\n",
       "      <td>result_1#2 = ϕ(result_1#1, result_1#4)</td>\n",
       "      <td>&lt;SSAVariable: result_1 version 1&gt; @ 0xb7f8 [3]...</td>\n",
       "      <td>0xb818 [9]\\n0xb824 [14]\\n0xb810 [15]\\n0xb828 [...</td>\n",
       "    </tr>\n",
       "    <tr>\n",
       "      <th>9</th>\n",
       "      <td>9</td>\n",
       "      <td>0xb818</td>\n",
       "      <td>if (result_1#2 s&gt;= 0) then 10 @ 0xb804 else 13...</td>\n",
       "      <td>None</td>\n",
       "      <td>None</td>\n",
       "    </tr>\n",
       "    <tr>\n",
       "      <th>10</th>\n",
       "      <td>10</td>\n",
       "      <td>0xb804</td>\n",
       "      <td>r2_1#2 = zx.d([r3#2].b @ mem#1)</td>\n",
       "      <td>None</td>\n",
       "      <td>0xb818 [6]\\n0xb80c [12]\\n0xb84c [17]</td>\n",
       "    </tr>\n",
       "    <tr>\n",
       "      <th>11</th>\n",
       "      <td>11</td>\n",
       "      <td>0xb804</td>\n",
       "      <td>r3#3 = r3#2 - 1</td>\n",
       "      <td>None</td>\n",
       "      <td>0xb818 [7]\\n0xb84c [18]\\n0xb854 [32]</td>\n",
       "    </tr>\n",
       "    <tr>\n",
       "      <th>12</th>\n",
       "      <td>12</td>\n",
       "      <td>0xb80c</td>\n",
       "      <td>if (r2_1#2 == 0x2e) then 14 @ 0xb824 else 15 @...</td>\n",
       "      <td>None</td>\n",
       "      <td>None</td>\n",
       "    </tr>\n",
       "    <tr>\n",
       "      <th>13</th>\n",
       "      <td>13</td>\n",
       "      <td>0xb81c</td>\n",
       "      <td>goto 17 @ 0xb84c</td>\n",
       "      <td>None</td>\n",
       "      <td>None</td>\n",
       "    </tr>\n",
       "    <tr>\n",
       "      <th>14</th>\n",
       "      <td>14</td>\n",
       "      <td>0xb824</td>\n",
       "      <td>if (result_1#2 == 0) then 21 else 22 @ 0xb828</td>\n",
       "      <td>None</td>\n",
       "      <td>None</td>\n",
       "    </tr>\n",
       "    <tr>\n",
       "      <th>15</th>\n",
       "      <td>15</td>\n",
       "      <td>0xb810</td>\n",
       "      <td>result_1#4 = result_1#2 - 1</td>\n",
       "      <td>None</td>\n",
       "      <td>0xb818 [8]</td>\n",
       "    </tr>\n",
       "    <tr>\n",
       "      <th>16</th>\n",
       "      <td>16</td>\n",
       "      <td>0xb810</td>\n",
       "      <td>goto 6 @ 0xb818</td>\n",
       "      <td>None</td>\n",
       "      <td>None</td>\n",
       "    </tr>\n",
       "    <tr>\n",
       "      <th>17</th>\n",
       "      <td>17</td>\n",
       "      <td>0xb84c</td>\n",
       "      <td>r2_1#4 = ϕ(r2_1#1, r2_1#2)</td>\n",
       "      <td>&lt;SSAVariable: r2_1 version 1&gt; @ 0xb818 [6]\\n&lt;S...</td>\n",
       "      <td>0xb854 [31]</td>\n",
       "    </tr>\n",
       "    <tr>\n",
       "      <th>18</th>\n",
       "      <td>18</td>\n",
       "      <td>0xb84c</td>\n",
       "      <td>r3#4 = ϕ(r3#2, r3#3)</td>\n",
       "      <td>&lt;SSAVariable: r3 version 2&gt; @ 0xb818 [7]\\n&lt;SSA...</td>\n",
       "      <td>0xb854 [32]</td>\n",
       "    </tr>\n",
       "    <tr>\n",
       "      <th>19</th>\n",
       "      <td>19</td>\n",
       "      <td>0xb84c</td>\n",
       "      <td>[r5#1].b = 0 @ mem#1 -&gt; mem#4</td>\n",
       "      <td>None</td>\n",
       "      <td>None</td>\n",
       "    </tr>\n",
       "    <tr>\n",
       "      <th>20</th>\n",
       "      <td>20</td>\n",
       "      <td>0xb84c</td>\n",
       "      <td>goto 29 @ 0xb854</td>\n",
       "      <td>None</td>\n",
       "      <td>None</td>\n",
       "    </tr>\n",
       "    <tr>\n",
       "      <th>21</th>\n",
       "      <td>21</td>\n",
       "      <td>0xb824</td>\n",
       "      <td>goto 17 @ 0xb84c</td>\n",
       "      <td>None</td>\n",
       "      <td>None</td>\n",
       "    </tr>\n",
       "    <tr>\n",
       "      <th>22</th>\n",
       "      <td>22</td>\n",
       "      <td>0xb828</td>\n",
       "      <td>r2_2#3 = result_1#2 + 1</td>\n",
       "      <td>None</td>\n",
       "      <td>0xb834 [25]\\n0xb854 [31]</td>\n",
       "    </tr>\n",
       "    <tr>\n",
       "      <th>23</th>\n",
       "      <td>23</td>\n",
       "      <td>0xb82c</td>\n",
       "      <td>r1#1 = r6#1</td>\n",
       "      <td>None</td>\n",
       "      <td>0xb834 [25]\\n0xb854 [30]</td>\n",
       "    </tr>\n",
       "    <tr>\n",
       "      <th>24</th>\n",
       "      <td>24</td>\n",
       "      <td>0xb830</td>\n",
       "      <td>r0#2 = r5#1</td>\n",
       "      <td>None</td>\n",
       "      <td>0xb834 [25]</td>\n",
       "    </tr>\n",
       "    <tr>\n",
       "      <th>25</th>\n",
       "      <td>25</td>\n",
       "      <td>0xb834</td>\n",
       "      <td>result#3, mem#2 = 0x93e0(r0#2, r1#1, r2_2#3) @...</td>\n",
       "      <td>None</td>\n",
       "      <td>None</td>\n",
       "    </tr>\n",
       "    <tr>\n",
       "      <th>26</th>\n",
       "      <td>26</td>\n",
       "      <td>0xb838</td>\n",
       "      <td>r4#3 = r5#1 + result_1#2</td>\n",
       "      <td>None</td>\n",
       "      <td>0xb840 [27]\\n0xb854 [33]</td>\n",
       "    </tr>\n",
       "    <tr>\n",
       "      <th>27</th>\n",
       "      <td>27</td>\n",
       "      <td>0xb840</td>\n",
       "      <td>[r4#3 + 1].b = 0 @ mem#2 -&gt; mem#3</td>\n",
       "      <td>None</td>\n",
       "      <td>None</td>\n",
       "    </tr>\n",
       "    <tr>\n",
       "      <th>28</th>\n",
       "      <td>28</td>\n",
       "      <td>0xb844</td>\n",
       "      <td>goto 29 @ 0xb854</td>\n",
       "      <td>None</td>\n",
       "      <td>None</td>\n",
       "    </tr>\n",
       "    <tr>\n",
       "      <th>29</th>\n",
       "      <td>29</td>\n",
       "      <td>0xb854</td>\n",
       "      <td>result#4 = ϕ(result#1, result#3)</td>\n",
       "      <td>&lt;SSAVariable: result version 1&gt; @ 0xb7f4 [2]\\n...</td>\n",
       "      <td>0xb854 [35]</td>\n",
       "    </tr>\n",
       "    <tr>\n",
       "      <th>30</th>\n",
       "      <td>30</td>\n",
       "      <td>0xb854</td>\n",
       "      <td>r1#2 = ϕ(arg2#0, r1#1)</td>\n",
       "      <td>&lt;SSAVariable: r1 version 1&gt; @ 0xb82c [23]</td>\n",
       "      <td>None</td>\n",
       "    </tr>\n",
       "    <tr>\n",
       "      <th>31</th>\n",
       "      <td>31</td>\n",
       "      <td>0xb854</td>\n",
       "      <td>r2_1#5 = ϕ(r2_2#3, r2_1#4)</td>\n",
       "      <td>&lt;SSAVariable: r2_2 version 3&gt; @ 0xb828 [22]\\n&lt;...</td>\n",
       "      <td>None</td>\n",
       "    </tr>\n",
       "    <tr>\n",
       "      <th>32</th>\n",
       "      <td>32</td>\n",
       "      <td>0xb854</td>\n",
       "      <td>r3#5 = ϕ(r3#3, r3#4)</td>\n",
       "      <td>&lt;SSAVariable: r3 version 3&gt; @ 0xb804 [11]\\n&lt;SS...</td>\n",
       "      <td>None</td>\n",
       "    </tr>\n",
       "    <tr>\n",
       "      <th>33</th>\n",
       "      <td>33</td>\n",
       "      <td>0xb854</td>\n",
       "      <td>r4#5 = ϕ(result_1#2, r4#3)</td>\n",
       "      <td>&lt;SSAVariable: result_1 version 2&gt; @ 0xb818 [8]...</td>\n",
       "      <td>None</td>\n",
       "    </tr>\n",
       "    <tr>\n",
       "      <th>34</th>\n",
       "      <td>34</td>\n",
       "      <td>0xb854</td>\n",
       "      <td>mem#5 = ϕ(mem#3, mem#4)</td>\n",
       "      <td>None</td>\n",
       "      <td>None</td>\n",
       "    </tr>\n",
       "    <tr>\n",
       "      <th>35</th>\n",
       "      <td>35</td>\n",
       "      <td>0xb854</td>\n",
       "      <td>return result#4</td>\n",
       "      <td>None</td>\n",
       "      <td>None</td>\n",
       "    </tr>\n",
       "  </tbody>\n",
       "</table>\n",
       "</div>"
      ],
      "text/plain": [
       "    Instr Index Address                                        Instruction  \\\n",
       "0             0  0xb7ec                                      r6#1 = arg1#0   \n",
       "1             1  0xb7f0                                      r5#1 = arg2#0   \n",
       "2             2  0xb7f4           result#1, mem#1 = 0x9710(arg1#0) @ mem#0   \n",
       "3             3  0xb7f8                              result_1#1 = result#1   \n",
       "4             4  0xb7fc                             r3#1 = r6#1 + result#1   \n",
       "5             5  0xb800                                    goto 6 @ 0xb818   \n",
       "6             6  0xb818                           r2_1#1 = ϕ(r2#0, r2_1#2)   \n",
       "7             7  0xb818                               r3#2 = ϕ(r3#1, r3#3)   \n",
       "8             8  0xb818             result_1#2 = ϕ(result_1#1, result_1#4)   \n",
       "9             9  0xb818  if (result_1#2 s>= 0) then 10 @ 0xb804 else 13...   \n",
       "10           10  0xb804                    r2_1#2 = zx.d([r3#2].b @ mem#1)   \n",
       "11           11  0xb804                                    r3#3 = r3#2 - 1   \n",
       "12           12  0xb80c  if (r2_1#2 == 0x2e) then 14 @ 0xb824 else 15 @...   \n",
       "13           13  0xb81c                                   goto 17 @ 0xb84c   \n",
       "14           14  0xb824      if (result_1#2 == 0) then 21 else 22 @ 0xb828   \n",
       "15           15  0xb810                        result_1#4 = result_1#2 - 1   \n",
       "16           16  0xb810                                    goto 6 @ 0xb818   \n",
       "17           17  0xb84c                         r2_1#4 = ϕ(r2_1#1, r2_1#2)   \n",
       "18           18  0xb84c                               r3#4 = ϕ(r3#2, r3#3)   \n",
       "19           19  0xb84c                      [r5#1].b = 0 @ mem#1 -> mem#4   \n",
       "20           20  0xb84c                                   goto 29 @ 0xb854   \n",
       "21           21  0xb824                                   goto 17 @ 0xb84c   \n",
       "22           22  0xb828                            r2_2#3 = result_1#2 + 1   \n",
       "23           23  0xb82c                                        r1#1 = r6#1   \n",
       "24           24  0xb830                                        r0#2 = r5#1   \n",
       "25           25  0xb834  result#3, mem#2 = 0x93e0(r0#2, r1#1, r2_2#3) @...   \n",
       "26           26  0xb838                           r4#3 = r5#1 + result_1#2   \n",
       "27           27  0xb840                  [r4#3 + 1].b = 0 @ mem#2 -> mem#3   \n",
       "28           28  0xb844                                   goto 29 @ 0xb854   \n",
       "29           29  0xb854                   result#4 = ϕ(result#1, result#3)   \n",
       "30           30  0xb854                             r1#2 = ϕ(arg2#0, r1#1)   \n",
       "31           31  0xb854                         r2_1#5 = ϕ(r2_2#3, r2_1#4)   \n",
       "32           32  0xb854                               r3#5 = ϕ(r3#3, r3#4)   \n",
       "33           33  0xb854                         r4#5 = ϕ(result_1#2, r4#3)   \n",
       "34           34  0xb854                            mem#5 = ϕ(mem#3, mem#4)   \n",
       "35           35  0xb854                                    return result#4   \n",
       "\n",
       "                                          Definitions  \\\n",
       "0                                                None   \n",
       "1                                                None   \n",
       "2                                                None   \n",
       "3                                                None   \n",
       "4                                                None   \n",
       "5                                                None   \n",
       "6         <SSAVariable: r2_1 version 2> @ 0xb804 [10]   \n",
       "7   <SSAVariable: r3 version 1> @ 0xb7fc [4]\\n<SSA...   \n",
       "8   <SSAVariable: result_1 version 1> @ 0xb7f8 [3]...   \n",
       "9                                                None   \n",
       "10                                               None   \n",
       "11                                               None   \n",
       "12                                               None   \n",
       "13                                               None   \n",
       "14                                               None   \n",
       "15                                               None   \n",
       "16                                               None   \n",
       "17  <SSAVariable: r2_1 version 1> @ 0xb818 [6]\\n<S...   \n",
       "18  <SSAVariable: r3 version 2> @ 0xb818 [7]\\n<SSA...   \n",
       "19                                               None   \n",
       "20                                               None   \n",
       "21                                               None   \n",
       "22                                               None   \n",
       "23                                               None   \n",
       "24                                               None   \n",
       "25                                               None   \n",
       "26                                               None   \n",
       "27                                               None   \n",
       "28                                               None   \n",
       "29  <SSAVariable: result version 1> @ 0xb7f4 [2]\\n...   \n",
       "30          <SSAVariable: r1 version 1> @ 0xb82c [23]   \n",
       "31  <SSAVariable: r2_2 version 3> @ 0xb828 [22]\\n<...   \n",
       "32  <SSAVariable: r3 version 3> @ 0xb804 [11]\\n<SS...   \n",
       "33  <SSAVariable: result_1 version 2> @ 0xb818 [8]...   \n",
       "34                                               None   \n",
       "35                                               None   \n",
       "\n",
       "                                                 Uses  \n",
       "0                             0xb7fc [4]\\n0xb82c [23]  \n",
       "1               0xb84c [19]\\n0xb830 [24]\\n0xb838 [26]  \n",
       "2                                                None  \n",
       "3                                          0xb818 [8]  \n",
       "4                                          0xb818 [7]  \n",
       "5                                                None  \n",
       "6                                         0xb84c [17]  \n",
       "7               0xb804 [10]\\n0xb804 [11]\\n0xb84c [18]  \n",
       "8   0xb818 [9]\\n0xb824 [14]\\n0xb810 [15]\\n0xb828 [...  \n",
       "9                                                None  \n",
       "10               0xb818 [6]\\n0xb80c [12]\\n0xb84c [17]  \n",
       "11               0xb818 [7]\\n0xb84c [18]\\n0xb854 [32]  \n",
       "12                                               None  \n",
       "13                                               None  \n",
       "14                                               None  \n",
       "15                                         0xb818 [8]  \n",
       "16                                               None  \n",
       "17                                        0xb854 [31]  \n",
       "18                                        0xb854 [32]  \n",
       "19                                               None  \n",
       "20                                               None  \n",
       "21                                               None  \n",
       "22                           0xb834 [25]\\n0xb854 [31]  \n",
       "23                           0xb834 [25]\\n0xb854 [30]  \n",
       "24                                        0xb834 [25]  \n",
       "25                                               None  \n",
       "26                           0xb840 [27]\\n0xb854 [33]  \n",
       "27                                               None  \n",
       "28                                               None  \n",
       "29                                        0xb854 [35]  \n",
       "30                                               None  \n",
       "31                                               None  \n",
       "32                                               None  \n",
       "33                                               None  \n",
       "34                                               None  \n",
       "35                                               None  "
      ]
     },
     "execution_count": 15,
     "metadata": {},
     "output_type": "execute_result"
    }
   ],
   "source": [
    "df"
   ]
  },
  {
   "cell_type": "code",
   "execution_count": 16,
   "id": "5f157f39-1b54-4115-b4ea-3b42a2316d7d",
   "metadata": {},
   "outputs": [],
   "source": [
    "df[\"Definitions\"] = df[\"Definitions\"].astype(str)\n",
    "df[\"Uses\"] = df[\"Uses\"].astype(str)"
   ]
  },
  {
   "cell_type": "code",
   "execution_count": 17,
   "id": "1f8a67ef-dac4-4f71-b123-b209bad7d716",
   "metadata": {},
   "outputs": [
    {
     "data": {
      "text/html": [
       "<div>\n",
       "<style scoped>\n",
       "    .dataframe tbody tr th:only-of-type {\n",
       "        vertical-align: middle;\n",
       "    }\n",
       "\n",
       "    .dataframe tbody tr th {\n",
       "        vertical-align: top;\n",
       "    }\n",
       "\n",
       "    .dataframe thead th {\n",
       "        text-align: right;\n",
       "    }\n",
       "</style>\n",
       "<table border=\"1\" class=\"dataframe\">\n",
       "  <thead>\n",
       "    <tr style=\"text-align: right;\">\n",
       "      <th></th>\n",
       "      <th>Instr Index</th>\n",
       "      <th>Address</th>\n",
       "      <th>Instruction</th>\n",
       "      <th>Definitions</th>\n",
       "      <th>Uses</th>\n",
       "    </tr>\n",
       "  </thead>\n",
       "  <tbody>\n",
       "    <tr>\n",
       "      <th>6</th>\n",
       "      <td>6</td>\n",
       "      <td>0xb818</td>\n",
       "      <td>r2_1#1 = ϕ(r2#0, r2_1#2)</td>\n",
       "      <td>&lt;SSAVariable: r2_1 version 2&gt; @ 0xb804 [10]</td>\n",
       "      <td>0xb84c [17]</td>\n",
       "    </tr>\n",
       "    <tr>\n",
       "      <th>10</th>\n",
       "      <td>10</td>\n",
       "      <td>0xb804</td>\n",
       "      <td>r2_1#2 = zx.d([r3#2].b @ mem#1)</td>\n",
       "      <td>None</td>\n",
       "      <td>0xb818 [6]\\n0xb80c [12]\\n0xb84c [17]</td>\n",
       "    </tr>\n",
       "  </tbody>\n",
       "</table>\n",
       "</div>"
      ],
      "text/plain": [
       "    Instr Index Address                      Instruction  \\\n",
       "6             6  0xb818         r2_1#1 = ϕ(r2#0, r2_1#2)   \n",
       "10           10  0xb804  r2_1#2 = zx.d([r3#2].b @ mem#1)   \n",
       "\n",
       "                                    Definitions  \\\n",
       "6   <SSAVariable: r2_1 version 2> @ 0xb804 [10]   \n",
       "10                                         None   \n",
       "\n",
       "                                    Uses  \n",
       "6                            0xb84c [17]  \n",
       "10  0xb818 [6]\\n0xb80c [12]\\n0xb84c [17]  "
      ]
     },
     "execution_count": 17,
     "metadata": {},
     "output_type": "execute_result"
    }
   ],
   "source": [
    "df[df[\"Uses\"].str.contains(\"17\", na=False)]"
   ]
  },
  {
   "cell_type": "code",
   "execution_count": 18,
   "id": "b4f66d09-23bd-476c-be58-1da358631e6f",
   "metadata": {},
   "outputs": [
    {
     "data": {
      "text/html": [
       "<div>\n",
       "<style scoped>\n",
       "    .dataframe tbody tr th:only-of-type {\n",
       "        vertical-align: middle;\n",
       "    }\n",
       "\n",
       "    .dataframe tbody tr th {\n",
       "        vertical-align: top;\n",
       "    }\n",
       "\n",
       "    .dataframe thead th {\n",
       "        text-align: right;\n",
       "    }\n",
       "</style>\n",
       "<table border=\"1\" class=\"dataframe\">\n",
       "  <thead>\n",
       "    <tr style=\"text-align: right;\">\n",
       "      <th></th>\n",
       "      <th>Instr Index</th>\n",
       "      <th>Address</th>\n",
       "      <th>Instruction</th>\n",
       "      <th>Definitions</th>\n",
       "      <th>Uses</th>\n",
       "    </tr>\n",
       "  </thead>\n",
       "  <tbody>\n",
       "    <tr>\n",
       "      <th>6</th>\n",
       "      <td>6</td>\n",
       "      <td>0xb818</td>\n",
       "      <td>r2_1#1 = ϕ(r2#0, r2_1#2)</td>\n",
       "      <td>&lt;SSAVariable: r2_1 version 2&gt; @ 0xb804 [10]</td>\n",
       "      <td>0xb84c [17]</td>\n",
       "    </tr>\n",
       "    <tr>\n",
       "      <th>17</th>\n",
       "      <td>17</td>\n",
       "      <td>0xb84c</td>\n",
       "      <td>r2_1#4 = ϕ(r2_1#1, r2_1#2)</td>\n",
       "      <td>&lt;SSAVariable: r2_1 version 1&gt; @ 0xb818 [6]\\n&lt;S...</td>\n",
       "      <td>0xb854 [31]</td>\n",
       "    </tr>\n",
       "    <tr>\n",
       "      <th>31</th>\n",
       "      <td>31</td>\n",
       "      <td>0xb854</td>\n",
       "      <td>r2_1#5 = ϕ(r2_2#3, r2_1#4)</td>\n",
       "      <td>&lt;SSAVariable: r2_2 version 3&gt; @ 0xb828 [22]\\n&lt;...</td>\n",
       "      <td>None</td>\n",
       "    </tr>\n",
       "  </tbody>\n",
       "</table>\n",
       "</div>"
      ],
      "text/plain": [
       "    Instr Index Address                 Instruction  \\\n",
       "6             6  0xb818    r2_1#1 = ϕ(r2#0, r2_1#2)   \n",
       "17           17  0xb84c  r2_1#4 = ϕ(r2_1#1, r2_1#2)   \n",
       "31           31  0xb854  r2_1#5 = ϕ(r2_2#3, r2_1#4)   \n",
       "\n",
       "                                          Definitions         Uses  \n",
       "6         <SSAVariable: r2_1 version 2> @ 0xb804 [10]  0xb84c [17]  \n",
       "17  <SSAVariable: r2_1 version 1> @ 0xb818 [6]\\n<S...  0xb854 [31]  \n",
       "31  <SSAVariable: r2_2 version 3> @ 0xb828 [22]\\n<...         None  "
      ]
     },
     "execution_count": 18,
     "metadata": {},
     "output_type": "execute_result"
    }
   ],
   "source": [
    "df[df[\"Definitions\"].str.contains(\"r2_1\", na=False)]"
   ]
  },
  {
   "cell_type": "markdown",
   "id": "d1771fdc-41ce-40e5-ab84-29281b95c407",
   "metadata": {},
   "source": [
    "<h1>Using the Binary Ninja GUI</h1>"
   ]
  },
  {
   "cell_type": "markdown",
   "id": "7d429d66-7217-44f2-a502-df7b7c56d845",
   "metadata": {},
   "source": [
    "Within Binary Ninja we can jump to 0xB7E8, and use current_mlil to do the following:\n",
    "- Check if the 3rd param to memcpy takes negative range values\n",
    "    - current_mlil.ssa_form[25].params[2].possible_values.ranges[0].end<br></br>\n",
    "- Check the def-use for phi nodes\n",
    "    - ssa = current_mlil.ssa_form[17]\n",
    "    - (current_mlil.ssa_form.get_ssa_var_definition((ssa).src[0]))\n",
    "    - (current_mlil.ssa_form.get_ssa_var_uses((ssa).src[0]))"
   ]
  },
  {
   "cell_type": "markdown",
   "id": "226616c9-cbe9-4aca-abba-cb1129c8f9a3",
   "metadata": {},
   "source": [
    "<h2>References</h2>"
   ]
  },
  {
   "cell_type": "markdown",
   "id": "caae715a-fce5-4977-80ca-ba3527eccba8",
   "metadata": {},
   "source": [
    "- Binary Ninja Python API Reference: https://api.binary.ninja/\n",
    "- Static Single Assignment Basics: https://docs.binary.ninja/dev/concepts.html#static-single-assignment-basics\n",
    "- Static single-assignment form: https://en.wikipedia.org/wiki/Static_single-assignment_form\n",
    "- Binary Ninja Intermediate Language Overview: https://docs.binary.ninja/dev/bnil-overview.html\n",
    "- SSA Explained: https://carstein.github.io/binary%20ninja/2020/10/22/ssa-explained.html\n",
    "- Vulnerability Modeling with Binary Ninja: https://blog.trailofbits.com/2018/04/04/vulnerability-modeling-with-binary-ninja/\n",
    "- F'ing Around with Binary Ninja: 2.0 Release Party!: https://www.youtube.com/watch?v=hQ4qxMVbLcM\n",
    "- Emulating the Tenda AC15 Router: https://armx.exploitlab.net/docs/emulating-tenda-ac15.html\n",
    "- EMUX: https://github.com/therealsaumil/emux/"
   ]
  }
 ],
 "metadata": {
  "kernelspec": {
   "display_name": "Python 3 (ipykernel)",
   "language": "python",
   "name": "python3"
  },
  "language_info": {
   "codemirror_mode": {
    "name": "ipython",
    "version": 3
   },
   "file_extension": ".py",
   "mimetype": "text/x-python",
   "name": "python",
   "nbconvert_exporter": "python",
   "pygments_lexer": "ipython3",
   "version": "3.10.10"
  }
 },
 "nbformat": 4,
 "nbformat_minor": 5
}
